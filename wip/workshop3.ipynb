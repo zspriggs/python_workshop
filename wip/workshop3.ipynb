{
 "cells": [
  {
   "cell_type": "markdown",
   "metadata": {},
   "source": [
    "## Workshop 3: List comprehensions and more useful functions\n",
    "#### What is a list comprehension?\n",
    "From W3Schools: \"List comprehension offers a shorter syntax when you want to create a new list based on the values of an existing list.\"\n",
    "\n",
    "List comprehensions can provide an alternative to loops, when you're trying to create a list."
   ]
  },
  {
   "cell_type": "code",
   "execution_count": 73,
   "metadata": {},
   "outputs": [
    {
     "name": "stdout",
     "output_type": "stream",
     "text": [
      "['virumque', 'canō,', 'Trōiae', 'prīmus', 'Ītaliam,', 'profugus,', 'Lāvīniaque', 'vēnit', 'lītora,', 'multum', 'terrīs', 'iactātus', 'superum', 'saevae', 'memorem', 'Iūnōnis']\n"
     ]
    }
   ],
   "source": [
    "corpus = \"Arma virumque canō, Trōiae quī prīmus ab ōrīs\\nĪtaliam, fātō profugus, Lāvīniaque vēnit\\nlītora, multum ille et terrīs iactātus et altō\\nvī superum saevae memorem Iūnōnis ob īram\"\n",
    "corpus_list = corpus.split()\n",
    "\n",
    "long_words = [word for word in corpus_list if len(word) > 4]\n",
    "print(long_words)"
   ]
  },
  {
   "cell_type": "markdown",
   "metadata": {},
   "source": [
    "\n",
    "long_words = [x for word in corpus_list if len(word) > 4]  \n",
    "Explanation: For each word in corpus_list, add the word to the new list long_words if that word's length is greater than 4\n",
    "\n",
    "You can also apply a function to whatever you're adding to the list"
   ]
  },
  {
   "cell_type": "code",
   "execution_count": 74,
   "metadata": {},
   "outputs": [
    {
     "name": "stdout",
     "output_type": "stream",
     "text": [
      "['VIRUMQUE', 'CANŌ,', 'TRŌIAE', 'PRĪMUS', 'ĪTALIAM,', 'PROFUGUS,', 'LĀVĪNIAQUE', 'VĒNIT', 'LĪTORA,', 'MULTUM', 'TERRĪS', 'IACTĀTUS', 'SUPERUM', 'SAEVAE', 'MEMOREM', 'IŪNŌNIS']\n"
     ]
    }
   ],
   "source": [
    "long_words = [word.upper() for word in corpus_list if len(word) > 4]\n",
    "print(long_words)"
   ]
  },
  {
   "cell_type": "markdown",
   "metadata": {},
   "source": [
    "long_words = [word.upper() for word in corpus_list if len(word) > 4]  \n",
    "Explanation:\n",
    "For each word in corpus_list, add the word in all caps to the new list long_words if that word's length is greater than 4\n",
    "\n",
    "Remember that list comprehensions can also be written as loops. This can sometimes be more readable, sometimes not, so you as the programmer can use your own discretion."
   ]
  },
  {
   "cell_type": "code",
   "execution_count": 75,
   "metadata": {},
   "outputs": [
    {
     "name": "stdout",
     "output_type": "stream",
     "text": [
      "['VIRUMQUE', 'CANŌ,', 'TRŌIAE', 'PRĪMUS', 'ĪTALIAM,', 'PROFUGUS,', 'LĀVĪNIAQUE', 'VĒNIT', 'LĪTORA,', 'MULTUM', 'TERRĪS', 'IACTĀTUS', 'SUPERUM', 'SAEVAE', 'MEMOREM', 'IŪNŌNIS']\n",
      "['VIRUMQUE', 'CANŌ,', 'TRŌIAE', 'PRĪMUS', 'ĪTALIAM,', 'PROFUGUS,', 'LĀVĪNIAQUE', 'VĒNIT', 'LĪTORA,', 'MULTUM', 'TERRĪS', 'IACTĀTUS', 'SUPERUM', 'SAEVAE', 'MEMOREM', 'IŪNŌNIS']\n",
      "the lists are the same\n"
     ]
    }
   ],
   "source": [
    "long_words = [word.upper() for word in corpus_list if len(word) > 4]\n",
    "\n",
    "# the above code does the same thing as...\n",
    "\n",
    "long_words_2 = []\n",
    "for word in corpus_list:\n",
    "    if len(word) > 4:\n",
    "        long_words_2.append(word.upper())\n",
    "\n",
    "print(long_words)\n",
    "print(long_words_2)\n",
    "\n",
    "if long_words == long_words_2:\n",
    "    print(\"the lists are the same\")"
   ]
  },
  {
   "cell_type": "markdown",
   "metadata": {},
   "source": [
    "### List slicing\n",
    "List slicing lets you take a slice (or slices) of elements of a list in the format list[start : end : step]"
   ]
  },
  {
   "cell_type": "code",
   "execution_count": 76,
   "metadata": {},
   "outputs": [
    {
     "name": "stdout",
     "output_type": "stream",
     "text": [
      "['Arma', 'virumque', 'canō,', 'Trōiae', 'quī', 'prīmus', 'ab', 'ōrīs', 'Ītaliam,', 'fātō', 'profugus,', 'Lāvīniaque', 'vēnit', 'lītora,', 'multum', 'ille', 'et', 'terrīs', 'iactātus', 'et', 'altō', 'vī', 'superum', 'saevae', 'memorem', 'Iūnōnis', 'ob', 'īram']\n",
      "['Arma', 'virumque', 'canō,', 'Trōiae', 'quī']\n",
      "['quī', 'prīmus', 'ab', 'ōrīs', 'Ītaliam,', 'fātō']\n",
      "['Arma', 'Trōiae', 'ab', 'fātō', 'vēnit', 'ille', 'iactātus', 'vī', 'memorem', 'īram']\n",
      "['Arma', 'canō,', 'quī', 'ab', 'Ītaliam,']\n"
     ]
    }
   ],
   "source": [
    "print(corpus_list[:]) # all the elements\n",
    "print(corpus_list[0:5]) # first 5 elements, note that it includes the 0th element and not the 5th element\n",
    "print(corpus_list[4:10]) # a section in the middle (the 4th element up until and including the 9th element)\n",
    "print(corpus_list[::3]) # the whole list but only every 3rd element \n",
    "print(corpus_list[0:10:2]) # every other of the first 10 elements\n",
    "\n",
    "# and whatever else you need to do\n"
   ]
  },
  {
   "cell_type": "markdown",
   "metadata": {},
   "source": [
    "### Some list functions\n",
    "To be honest, a lot of list functions such as all() map() and filter() can all be replaced with list comprehensions. You're welcome to check those out on your own, but I think that for our purposes it's easier to just use list comprehensions. "
   ]
  },
  {
   "cell_type": "code",
   "execution_count": 81,
   "metadata": {},
   "outputs": [
    {
     "name": "stdout",
     "output_type": "stream",
     "text": [
      "<enumerate object at 0x0000022D83C2FBC0>\n",
      "0 Arma\n",
      "1 virumque\n",
      "2 canō,\n",
      "3 Trōiae\n",
      "4 quī\n",
      "5 prīmus\n",
      "6 ab\n",
      "7 ōrīs\n",
      "8 Ītaliam,\n",
      "9 fātō\n",
      "10 profugus,\n",
      "11 Lāvīniaque\n",
      "12 vēnit\n",
      "13 lītora,\n",
      "14 multum\n",
      "15 ille\n",
      "16 et\n",
      "17 terrīs\n",
      "18 iactātus\n",
      "19 et\n",
      "20 altō\n",
      "21 vī\n",
      "22 superum\n",
      "23 saevae\n",
      "24 memorem\n",
      "25 Iūnōnis\n",
      "26 ob\n",
      "27 īram\n"
     ]
    }
   ],
   "source": [
    "# enumerate\n",
    "corpus_list_nums = enumerate(corpus_list)\n",
    "print(corpus_list_nums)\n",
    "\n",
    "for x, word in corpus_list_nums:\n",
    "    print(x, word)"
   ]
  },
  {
   "cell_type": "code",
   "execution_count": 82,
   "metadata": {},
   "outputs": [
    {
     "name": "stdout",
     "output_type": "stream",
     "text": [
      "5\n"
     ]
    }
   ],
   "source": [
    "# min and max\n",
    "word_lengths = [3, 5, 2]\n",
    "longest_word_length = max(word_lengths)\n",
    "shortest_word_length = min(word_lengths)\n",
    "\n",
    "# but this is slightly strange data, let's see a different example:\n",
    "\n",
    "word_freqs = {\"hello\": 1, \"my\": 4, \"name\": 2, \"is\": 5}\n",
    "most_frequent = max(word_freqs.values())\n",
    "\n",
    "print(most_frequent)"
   ]
  },
  {
   "cell_type": "markdown",
   "metadata": {},
   "source": [
    "How do you programattically generate something like word_freqs?  \n",
    "In week 1 of workshop we talked about doing this with loops, but you can also use Counter from the collections module. A Counter object allows you to easily count the most common elements in an iterable. Note that the Counter object isn't the same as a Python dictionary, but can often be used in the same ways.\n",
    "\n",
    "You can also do arithmetic between Counter objects, which can be useful to add in data from other corpora"
   ]
  },
  {
   "cell_type": "code",
   "execution_count": 84,
   "metadata": {},
   "outputs": [
    {
     "name": "stdout",
     "output_type": "stream",
     "text": [
      "Counter({'et': 2, 'Arma': 1, 'virumque': 1, 'canō,': 1, 'Trōiae': 1, 'quī': 1, 'prīmus': 1, 'ab': 1, 'ōrīs': 1, 'Ītaliam,': 1, 'fātō': 1, 'profugus,': 1, 'Lāvīniaque': 1, 'vēnit': 1, 'lītora,': 1, 'multum': 1, 'ille': 1, 'terrīs': 1, 'iactātus': 1, 'altō': 1, 'vī': 1, 'superum': 1, 'saevae': 1, 'memorem': 1, 'Iūnōnis': 1, 'ob': 1, 'īram': 1})\n",
      "Counter({'et': 3, 'Arte': 2, 'Arma': 1, 'virumque': 1, 'canō,': 1, 'Trōiae': 1, 'quī': 1, 'prīmus': 1, 'ab': 1, 'ōrīs': 1, 'Ītaliam,': 1, 'fātō': 1, 'profugus,': 1, 'Lāvīniaque': 1, 'vēnit': 1, 'lītora,': 1, 'multum': 1, 'ille': 1, 'terrīs': 1, 'iactātus': 1, 'altō': 1, 'vī': 1, 'superum': 1, 'saevae': 1, 'memorem': 1, 'Iūnōnis': 1, 'ob': 1, 'īram': 1, 'Siquis': 1, 'in': 1, 'hoc': 1, 'artem': 1, 'populo': 1, 'non': 1, 'novit': 1, 'amandi,': 1, 'Hoc': 1, 'legat': 1, 'lecto': 1, 'carmine': 1, 'doctus': 1, 'amet': 1, 'citae': 1, 'veloque': 1, 'rates': 1, 'remoque': 1, 'moventur,': 1, 'leves': 1, 'currus:': 1, 'arte': 1, 'regendus': 1, 'amor.': 1})\n",
      "Counter({'et': 1})\n",
      "most common word in first corpus [('et', 2), ('Arma', 1), ('virumque', 1), ('canō,', 1), ('Trōiae', 1)] in second corpus [('Arte', 2)]\n"
     ]
    }
   ],
   "source": [
    "\n",
    "from collections import Counter\n",
    "\n",
    "corpus = \"Arma virumque canō, Trōiae quī prīmus ab ōrīs\\nĪtaliam, fātō profugus, Lāvīniaque vēnit\\nlītora, multum ille et terrīs iactātus et altō\\nvī superum saevae memorem Iūnōnis ob īram\"\n",
    "corpus_list = corpus.split()\n",
    "\n",
    "word_freqs = Counter(corpus_list)\n",
    "\n",
    "print(word_freqs) \n",
    "\n",
    "corpus2 = \"Siquis in hoc artem populo non novit amandi,\\nHoc legat et lecto carmine doctus amet\\nArte citae veloque rates remoque moventur,\\nArte leves currus: arte regendus amor.\"\n",
    "corpus2_list = corpus2.split()\n",
    "\n",
    "word_freqs2 = Counter(corpus2_list)\n",
    "\n",
    "print(word_freqs + word_freqs2)\n",
    "print(word_freqs & word_freqs2) #intersection\n",
    "print(f\"most common word in first corpus {word_freqs.most_common(1)} in second corpus {word_freqs2.most_common(1)}\")"
   ]
  },
  {
   "cell_type": "code",
   "execution_count": null,
   "metadata": {},
   "outputs": [],
   "source": [
    "# set\n",
    "tokens = ['this', 'is', 'a', 'test', 'this']\n",
    "unique_tokens = set(tokens) # remember that sets are lists with only unique values\n",
    "\n",
    "print(unique_tokens)"
   ]
  },
  {
   "cell_type": "markdown",
   "metadata": {},
   "source": [
    "Let's look at and explain some examples from last week's class. The code that follows is from the example of calculating the first part of Delta P, towards the end of the Week 4 notebook. This also includes some examples of list functions and list slicing!"
   ]
  },
  {
   "cell_type": "code",
   "execution_count": 46,
   "metadata": {},
   "outputs": [],
   "source": [
    "node = \"temple\"\n",
    "collocate = \"a\"\n",
    "\n",
    "def count_ngram_collocations(x, w1, w2, l_size: int = 1, r_size: int = 1):\n",
    "    lemmata = [t.lemma_ for t in x]\n",
    "\n",
    "    indexes = [i for i, lemma in enumerate(lemmata) if lemma == w1]\n",
    "    cooccurrences = 0\n",
    "\n",
    "    for i in indexes:\n",
    "        left = max(i - l_size, 0)\n",
    "        right = min(i + r_size + 1, len(lemmata))\n",
    "\n",
    "        window = lemmata[left:right]\n",
    "        print(window)\n",
    "        if w2 in window:\n",
    "            cooccurrences += 1\n",
    "            \n",
    "    return cooccurrences"
   ]
  },
  {
   "cell_type": "markdown",
   "metadata": {},
   "source": [
    "lemmata = [t.lemma_ for t in x]  \n",
    "This takes the lemma_ for each token in x, which in this case is a Pandas dataframe, and puts each lemma_ into the variable lemmata\n",
    "\n",
    "indexes = [i for i, lemma in enumerate(lemmata) if lemma == w1]\n",
    "Take the index i for each index, lemma pair in the enumerated lemmata list, if the lemma in question is our node (w1)\n",
    "\n"
   ]
  }
 ],
 "metadata": {
  "kernelspec": {
   "display_name": "Python 3",
   "language": "python",
   "name": "python3"
  },
  "language_info": {
   "codemirror_mode": {
    "name": "ipython",
    "version": 3
   },
   "file_extension": ".py",
   "mimetype": "text/x-python",
   "name": "python",
   "nbconvert_exporter": "python",
   "pygments_lexer": "ipython3",
   "version": "3.10.7"
  }
 },
 "nbformat": 4,
 "nbformat_minor": 2
}
