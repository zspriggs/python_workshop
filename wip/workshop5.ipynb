{
 "cells": [
  {
   "cell_type": "markdown",
   "metadata": {},
   "source": [
    "#### Workshop Week 5 - Brief intro to data visualization\n",
    "If you want tips on what types of visualizations to use and when, check out Brezina chapter 1"
   ]
  },
  {
   "cell_type": "code",
   "execution_count": null,
   "metadata": {},
   "outputs": [],
   "source": [
    "%pip install seaborn\n",
    "%pip install numpy pandas\n",
    "%pip install lxml\n",
    "%pip install wordcloud\n",
    "%pip install networkx"
   ]
  },
  {
   "cell_type": "markdown",
   "metadata": {},
   "source": [
    "First, we'll take a look back at tfidf and week 6. We can use the same code to generate tfidf scores, then make a headmap of those scores."
   ]
  },
  {
   "cell_type": "code",
   "execution_count": null,
   "metadata": {},
   "outputs": [],
   "source": [
    "from sklearn.feature_extraction.text import TfidfVectorizer\n",
    "import pandas as pd\n",
    "import seaborn as sns\n",
    "import matplotlib.pyplot as plt\n",
    "\n",
    "pd.set_option('display.max_colwidth', None)\n",
    "\n",
    "df = pd.read_pickle(\"./greek-tragedy-by-line.pickle\")\n",
    "\n",
    "df.sort_values(by=[\"title\", \"n\"])\n",
    "docs = df.groupby(['dramatist', 'title'])['text'].apply(' '.join).reset_index()\n",
    "\n",
    "sophocles_docs = docs[docs['dramatist'] == 'Sophocles']\n",
    "\n",
    "vectorizer = TfidfVectorizer(stop_words=\"english\")\n",
    "X = vectorizer.fit_transform(sophocles_docs['text'])\n",
    "\n",
    "tfidf_df = pd.DataFrame(\n",
    "    X.toarray(),\n",
    "    index=sophocles_docs['title'],\n",
    "    columns=vectorizer.get_feature_names_out(),\n",
    ")\n",
    "\n",
    "keywords = [\n",
    "    \"apollo\",\n",
    "    \"death\", \n",
    "    \"divinity\",\n",
    "    \"gods\",\n",
    "    \"humankind\",\n",
    "    \"humans\",\n",
    "    \"life\",\n",
    "    \"men\",\n",
    "    \"women\",\n",
    "    \"zeus\"\n",
    "]\n",
    "\n",
    "plt.figure(figsize=(10, 6))\n",
    "sns.heatmap(tfidf_df[keywords], annot=True, cmap=\"YlGnBu\", cbar_kws={'label': 'TF-IDF Score'})\n",
    "plt.title(\"TF-IDF Scores for Terms Across Sophocles\")\n",
    "plt.xlabel(\"Terms\")\n",
    "plt.ylabel(\"Documents\")\n",
    "plt.show()"
   ]
  },
  {
   "cell_type": "markdown",
   "metadata": {},
   "source": [
    "Of course, simple bar graphs are also always useful. Even if they might be a little bit of a simple way to represent data for this class, where we're often dealing with more complex values that aren't easily represented in bar graph form, they can be a good way to help you initially understand your corpus. "
   ]
  },
  {
   "cell_type": "code",
   "execution_count": null,
   "metadata": {},
   "outputs": [],
   "source": [
    "sophocles_docs[\"god_count\"] = sophocles_docs[\"text\"].str.count(r'\\bgod\\b') + sophocles_docs[\"text\"].str.count(r'\\bgods\\b')\n",
    "\n",
    "plt.figure(figsize=(10, 6))\n",
    "plt.bar(sophocles_docs['title'], sophocles_docs['god_count'], color='green')\n",
    "plt.xlabel(\"Title\")\n",
    "plt.ylabel(\"Count of god or gods\")\n",
    "plt.title(\"Occurrences of 'gods' in Each Sophocles Play\")\n",
    "plt.show()"
   ]
  },
  {
   "cell_type": "markdown",
   "metadata": {},
   "source": [
    "Scatterplots can help you understand the relationships between different values. "
   ]
  },
  {
   "cell_type": "code",
   "execution_count": null,
   "metadata": {},
   "outputs": [],
   "source": [
    "import re\n",
    "gods_words = ['god', 'gods', 'divine', 'divinity', 'goddess', 'goddesses']\n",
    "misery_words = ['misery', 'sadness', 'sorrow', 'grief', 'despair', 'mourning', 'woe', 'bitter']\n",
    "\n",
    "def count_words(text, word_list):\n",
    "    text = re.sub(r'[^\\w\\s]', '', text.lower())\n",
    "    count = sum(1 for word in text.split() if word in word_list)\n",
    "    return count\n",
    "\n",
    "word_counts = []\n",
    "for text in docs['text']:\n",
    "    gods_count = count_words(text, gods_words)\n",
    "    misery_count = count_words(text, misery_words)\n",
    "    word_counts.append((gods_count, misery_count))\n",
    "\n",
    "counts_df = pd.DataFrame(word_counts, columns=['gods', 'misery'])\n",
    "\n",
    "plt.figure(figsize=(10, 6))\n",
    "sns.regplot(x='gods', y='misery', data=counts_df, scatter_kws={'color': 'blue'}, line_kws={'color': 'red'})\n",
    "plt.title(\"Scatter Plot of 'Gods' vs 'Misery' Word Counts\")\n",
    "plt.xlabel(\"Gods Word Count\")\n",
    "plt.ylabel(\"Misery Word Count\")\n",
    "plt.show()\n"
   ]
  },
  {
   "cell_type": "markdown",
   "metadata": {},
   "source": [
    "WordClouds are tbh just kinda fun, and are another way to get an initial understanding of your corpus."
   ]
  },
  {
   "cell_type": "code",
   "execution_count": null,
   "metadata": {},
   "outputs": [],
   "source": [
    "from wordcloud import WordCloud\n",
    "\n",
    "sophocles_docs[\"length\"] = sophocles_docs[\"text\"].apply(len)\n",
    "\n",
    "word_freq_dict = dict(zip(sophocles_docs[\"title\"], sophocles_docs[\"length\"]))\n",
    "\n",
    "wordcloud = WordCloud(width=600, height=400, background_color=\"white\").generate_from_frequencies(word_freq_dict)\n",
    "plt.figure(figsize=(10, 5))\n",
    "plt.imshow(wordcloud, interpolation=\"bilinear\")\n",
    "plt.show()"
   ]
  },
  {
   "cell_type": "code",
   "execution_count": null,
   "metadata": {},
   "outputs": [],
   "source": [
    "from wordcloud import WordCloud\n",
    "\n",
    "word_freq_dict = dict(zip(sophocles_docs[\"title\"], sophocles_docs[\"god_count\"]))\n",
    "\n",
    "wordcloud = WordCloud(width=600, height=300, background_color=\"white\").generate_from_frequencies(word_freq_dict)\n",
    "plt.figure(figsize=(10, 5))\n",
    "plt.imshow(wordcloud)\n",
    "#you can also remove axes and add a title\n",
    "plt.axis(\"off\") \n",
    "plt.title(\"Mentions of the gods in each play\")\n",
    "plt.show()"
   ]
  },
  {
   "cell_type": "markdown",
   "metadata": {},
   "source": [
    "Finally, let's see how you'd build a collocation graph"
   ]
  },
  {
   "cell_type": "code",
   "execution_count": null,
   "metadata": {},
   "outputs": [],
   "source": [
    "import networkx as nx\n",
    "\n",
    "def count_ngram_collocations(x, w1, w2, l_size: int = 1, r_size: int = 1):\n",
    "    indexes = [i for i, word in enumerate(x) if word == w1]\n",
    "\n",
    "    cooccurrences = 0\n",
    "\n",
    "    for i in indexes:\n",
    "        left = max(i - l_size, 0)\n",
    "        right = min(i + r_size + 1, len(x))\n",
    "\n",
    "        window = x[left:right]\n",
    "\n",
    "        if w2 in window:\n",
    "            cooccurrences += 1\n",
    "            \n",
    "    return cooccurrences\n",
    "\n",
    "antigone_text = df[df[\"title\"] == \"Antigone\"][\"text\"]\n",
    "antigone = re.sub(r'[^\\w\\s]', '', text.lower()).split()\n",
    "\n",
    "collocates = [\"temple\", \"girl\", \"gods\", \"sister\", \"brother\", \"king\", \"daughter\", \"man\", \"woman\", \"fear\", \"burial\", \"town\", \"dead\"]\n",
    "window_size = 3\n",
    "edges = []\n",
    "\n",
    "for collocate in collocates:\n",
    "    edges.append((\"the\", collocate, count_ngram_collocations(antigone, \"the\", collocate, window_size, window_size)))\n",
    "\n",
    "G = nx.Graph()\n",
    "\n",
    "for edge in edges:\n",
    "    if edge[2] != 0:\n",
    "       G.add_edge(edge[0], edge[1], weight=edge[2])\n",
    "\n",
    "plt.figure(figsize=(10, 8))\n",
    "pos = nx.spring_layout(G)  \n",
    "nx.draw(G, pos, with_labels=True, node_size=3000, node_color='#ffbcb8', font_size=8)\n",
    "edges = nx.get_edge_attributes(G, 'weight')\n",
    "nx.draw_networkx_edge_labels(G, pos, edge_labels=edges)\n",
    "plt.title(\"Word Co-occurrence Graph\")\n",
    "plt.show()"
   ]
  }
 ],
 "metadata": {
  "kernelspec": {
   "display_name": "Python 3",
   "language": "python",
   "name": "python3"
  },
  "language_info": {
   "codemirror_mode": {
    "name": "ipython",
    "version": 3
   },
   "file_extension": ".py",
   "mimetype": "text/x-python",
   "name": "python",
   "nbconvert_exporter": "python",
   "pygments_lexer": "ipython3",
   "version": "3.12.1"
  }
 },
 "nbformat": 4,
 "nbformat_minor": 2
}
