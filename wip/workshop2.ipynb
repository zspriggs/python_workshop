{
 "cells": [
  {
   "cell_type": "markdown",
   "metadata": {},
   "source": [
    "# Welcome to Python workshop 2!\n",
    "Today we are going to discuss conditionals and loops\n",
    "\n",
    "### Conditionals\n",
    "\"If\" statements in Python allow you to test whether not a certain condition is true\n"
   ]
  },
  {
   "cell_type": "code",
   "execution_count": 1,
   "metadata": {},
   "outputs": [
    {
     "name": "stdout",
     "output_type": "stream",
     "text": [
      "Number is divisible by 5\n"
     ]
    }
   ],
   "source": [
    "num = 5\n",
    "if num < 5:\n",
    "    print(\"Number is less than 5\")\n",
    "\n",
    "if num % 5 == 0:\n",
    "    print(\"Number is divisible by 5\")"
   ]
  },
  {
   "cell_type": "markdown",
   "metadata": {},
   "source": [
    "You can also use \"elif\" and \"else\" in your if statements. \"elif\" is for testing a different condition, if the previous condition(s) were not met. \"else\" is used to designate code that will run if none of the above conditions were met. "
   ]
  },
  {
   "cell_type": "code",
   "execution_count": 4,
   "metadata": {},
   "outputs": [
    {
     "name": "stdout",
     "output_type": "stream",
     "text": [
      "Hope you're not too sleepy.\n"
     ]
    }
   ],
   "source": [
    "corpus = \"Good evening everyone, I hope you're having a wonderful time in Python workshop!\"\n",
    "corpus_list = corpus.split()\n",
    "\n",
    "if \"statistics\" in corpus_list:\n",
    "    print(\"Let's get calculating!\")\n",
    "elif \"evening\" in corpus_list:\n",
    "    print(\"Hope you're not too sleepy.\")\n",
    "elif \"ancient greek\" in corpus_list:\n",
    "    print(\"I love ancient languages!\")\n",
    "else:\n",
    "    print(\"Let's get coding!\")\n"
   ]
  },
  {
   "cell_type": "markdown",
   "metadata": {},
   "source": [
    "You can add complexity to conditional statements using the Python logical operators: and, or, not  \n",
    "Keep in mind that parentheses () in Python work a lot like they do in math. You can use them in your if statements to help add clarity, and to make sure Python evaluates your logic in the right order. "
   ]
  },
  {
   "cell_type": "code",
   "execution_count": 8,
   "metadata": {},
   "outputs": [
    {
     "name": "stdout",
     "output_type": "stream",
     "text": [
      "Good evening to you as well!\n"
     ]
    }
   ],
   "source": [
    "if \"Good\" in corpus_list and \"evening\" in corpus_list or \"night\" in corpus_list:\n",
    "    print(\"Good evening to you as well!\")\n",
    "elif \"Good\" in corpus_list and (\"evening\" not in corpus_list and \"night\" not in corpus_list):\n",
    "    print(\"It is not the evening\")"
   ]
  },
  {
   "cell_type": "markdown",
   "metadata": {},
   "source": [
    "At times, it can be helpful to store your conditions in a variable. *Booleans* or Bools are another built-in data type that we did not discuss last time. Bools represent a simple true/false value. "
   ]
  },
  {
   "cell_type": "code",
   "execution_count": 11,
   "metadata": {},
   "outputs": [
    {
     "name": "stdout",
     "output_type": "stream",
     "text": [
      "The first corpus is a valid length\n",
      "valid\n"
     ]
    }
   ],
   "source": [
    "#Let's pretend a \"valid\" corpus has at least 5 words in it. \n",
    "corpus1 = \"All the world’s a stage, and all the men and women merely players\"\n",
    "\n",
    "corpus1_list = corpus1.split()\n",
    "\n",
    "corpus1_isValid = len(corpus1_list) >= 5\n",
    "\n",
    "if corpus1_isValid:\n",
    "    print(\"The first corpus is a valid length\")\n",
    "elif not corpus1_isValid:\n",
    "    print(\"The first corpus is not a valid length\")\n",
    "\n",
    "# since we know that the variable corpus1_isValid will either be true or false,\n",
    "# a slightly clearer way of writing the above statement might be to use an else\n",
    "\n",
    "if corpus1_isValid:\n",
    "    print(\"valid\")\n",
    "else:\n",
    "    print(\"not valid\")"
   ]
  },
  {
   "cell_type": "markdown",
   "metadata": {},
   "source": [
    "## A note on programming\n",
    "Just like any other language (programming or otherwise) there are almost always multiple ways of expressing something. Personally, I find the second if statement above to be more easy to understand, but you might disagree. In general, it is best practice to write code that is easy to understand by choosing clear/descriptive variable names and trying to make your code straightforward. "
   ]
  },
  {
   "cell_type": "markdown",
   "metadata": {},
   "source": [
    "### Loops\n"
   ]
  }
 ],
 "metadata": {
  "kernelspec": {
   "display_name": "base",
   "language": "python",
   "name": "python3"
  },
  "language_info": {
   "codemirror_mode": {
    "name": "ipython",
    "version": 3
   },
   "file_extension": ".py",
   "mimetype": "text/x-python",
   "name": "python",
   "nbconvert_exporter": "python",
   "pygments_lexer": "ipython3",
   "version": "3.12.2"
  }
 },
 "nbformat": 4,
 "nbformat_minor": 2
}
