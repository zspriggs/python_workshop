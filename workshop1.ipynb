{
 "cells": [
  {
   "cell_type": "markdown",
   "metadata": {},
   "source": [
    "### Welcome to a Jupyter notebook!\n",
    "\n",
    "By now, you should be familiar with this format, since it's what we've been using in class. Let's start by doing a quick Python demonstration, just to show other places where you can code in Python."
   ]
  },
  {
   "cell_type": "code",
   "execution_count": 16,
   "metadata": {},
   "outputs": [
    {
     "data": {
      "text/plain": [
       "120"
      ]
     },
     "execution_count": 16,
     "metadata": {},
     "output_type": "execute_result"
    }
   ],
   "source": [
    "#now, since we're in a code block, we have to conform to Python syntax\n",
    "#you can use a # to denote comments, which python will ignore\n",
    "\n",
    "english_string = 'All life is a stage and game: either learn to play shifting off your seriousness, or bear the weight or your sufferings.'\n",
    "greek_string = \"σκηνὴ πᾶς ὁ βίος καὶ παίγνιον: ἢ μάθε παίζειν, τὴν σπουδὴν μεταθείς, ἢ φέρε τὰς ὀδύνας.\"\n",
    "len(greek_string)\n",
    "len(english_string)\n"
   ]
  },
  {
   "cell_type": "markdown",
   "metadata": {},
   "source": [
    "what? why did that only show one of the lengths?"
   ]
  },
  {
   "cell_type": "code",
   "execution_count": 17,
   "metadata": {},
   "outputs": [
    {
     "name": "stdout",
     "output_type": "stream",
     "text": [
      "87\n",
      "120\n"
     ]
    }
   ],
   "source": [
    "print(len(greek_string))\n",
    "print(len(english_string))\n",
    "\n",
    "grk_str_len = len(greek_string)\n",
    "eng_str_len = len(english_string)"
   ]
  },
  {
   "cell_type": "code",
   "execution_count": 4,
   "metadata": {},
   "outputs": [
    {
     "name": "stdout",
     "output_type": "stream",
     "text": [
      "87\n",
      "120\n"
     ]
    }
   ],
   "source": [
    "print(grk_str_len)\n",
    "print(eng_str_len)"
   ]
  },
  {
   "cell_type": "code",
   "execution_count": 20,
   "metadata": {},
   "outputs": [
    {
     "name": "stdout",
     "output_type": "stream",
     "text": [
      "Greek all uppercase:ΣΚΗΝῊ ΠΑ͂Σ Ὁ ΒΊΟΣ ΚΑῚ ΠΑΊΓΝΙΟΝ: Ἢ ΜΆΘΕ ΠΑΊΖΕΙΝ, ΤῊΝ ΣΠΟΥΔῊΝ ΜΕΤΑΘΕΊΣ, Ἢ ΦΈΡΕ ΤᾺΣ ὈΔΎΝΑΣ.\n",
      "English all lowercase:     hello\n",
      "\n",
      "\n",
      "\n"
     ]
    }
   ],
   "source": [
    "print(\"Greek all uppercase:\" + greek_string.upper())\n",
    "print(\"English all lowercase:\" + english_string.lower())"
   ]
  },
  {
   "cell_type": "code",
   "execution_count": 19,
   "metadata": {},
   "outputs": [
    {
     "name": "stdout",
     "output_type": "stream",
     "text": [
      "     hello\n",
      "\n",
      "\n",
      "\n"
     ]
    },
    {
     "data": {
      "text/plain": [
       "'hello'"
      ]
     },
     "execution_count": 19,
     "metadata": {},
     "output_type": "execute_result"
    }
   ],
   "source": [
    "english_string = \"     hello\\n\\n\\n\"\n",
    "print(english_string)\n",
    "english_string.strip()"
   ]
  }
 ],
 "metadata": {
  "kernelspec": {
   "display_name": "base",
   "language": "python",
   "name": "python3"
  },
  "language_info": {
   "codemirror_mode": {
    "name": "ipython",
    "version": 3
   },
   "file_extension": ".py",
   "mimetype": "text/x-python",
   "name": "python",
   "nbconvert_exporter": "python",
   "pygments_lexer": "ipython3",
   "version": "3.12.2"
  }
 },
 "nbformat": 4,
 "nbformat_minor": 2
}
