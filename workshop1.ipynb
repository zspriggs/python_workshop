{
 "cells": [
  {
   "cell_type": "markdown",
   "metadata": {},
   "source": [
    "### Welcome to a Jupyter notebook!\n",
    "\n",
    "By now, you should be familiar with this format, since it's what we've been using in class. Let's start by doing a quick Python demonstration, just to show other places where you can code in Python."
   ]
  },
  {
   "cell_type": "code",
   "execution_count": 40,
   "metadata": {},
   "outputs": [
    {
     "data": {
      "text/plain": [
       "120"
      ]
     },
     "execution_count": 40,
     "metadata": {},
     "output_type": "execute_result"
    }
   ],
   "source": [
    "#now, since we're in a code block, we have to conform to Python syntax\n",
    "#you can use a # to denote comments, which python will ignore\n",
    "\n",
    "#let's define a couple of strings, and then use the len() function to determine their length in characters\n",
    "\n",
    "english_string = 'All life is a stage and game: either learn to play shifting off your seriousness, or bear the weight or your sufferings.'\n",
    "greek_string = \"σκηνὴ πᾶς ὁ βίος καὶ παίγνιον: ἢ μάθε παίζειν, τὴν σπουδὴν μεταθείς, ἢ φέρε τὰς ὀδύνας.\"\n",
    "len(greek_string)\n",
    "len(english_string)\n",
    "\n",
    "#press the little play button in the top left corner of this block to run this code\n"
   ]
  },
  {
   "cell_type": "markdown",
   "metadata": {},
   "source": [
    "Why did that only show one of the lengths? How do we know the length of the Greek string?\n",
    "\n",
    "Jupyter will automatically print the result of the last command given. In order to print other stuff, you'll need to use Python's print() command."
   ]
  },
  {
   "cell_type": "code",
   "execution_count": 35,
   "metadata": {},
   "outputs": [
    {
     "name": "stdout",
     "output_type": "stream",
     "text": [
      "87\n",
      "120\n"
     ]
    }
   ],
   "source": [
    "# you can print the length\n",
    "print(len(greek_string))\n",
    "print(len(english_string))\n",
    "\n",
    "# or save it in a variable .....\n",
    "grk_str_len = len(greek_string)\n",
    "eng_str_len = len(english_string)"
   ]
  },
  {
   "cell_type": "code",
   "execution_count": 36,
   "metadata": {},
   "outputs": [
    {
     "name": "stdout",
     "output_type": "stream",
     "text": [
      "87\n",
      "120\n"
     ]
    }
   ],
   "source": [
    "# .... and print it later in your notebook\n",
    "print(grk_str_len)\n",
    "print(eng_str_len)"
   ]
  },
  {
   "cell_type": "markdown",
   "metadata": {},
   "source": [
    "There are a lot of string functions. You can find a list of all of them here: https://www.w3schools.com/python/python_ref_string.asp\n",
    "\n",
    "Here are a few that might be useful for your QTA work. "
   ]
  },
  {
   "cell_type": "code",
   "execution_count": 41,
   "metadata": {},
   "outputs": [
    {
     "name": "stdout",
     "output_type": "stream",
     "text": [
      "Greek sentence all uppercase:ΣΚΗΝῊ ΠΑ͂Σ Ὁ ΒΊΟΣ ΚΑῚ ΠΑΊΓΝΙΟΝ: Ἢ ΜΆΘΕ ΠΑΊΖΕΙΝ, ΤῊΝ ΣΠΟΥΔῊΝ ΜΕΤΑΘΕΊΣ, Ἢ ΦΈΡΕ ΤᾺΣ ὈΔΎΝΑΣ.\n",
      "English sentence all lowercase:all life is a stage and game: either learn to play shifting off your seriousness, or bear the weight or your sufferings.\n"
     ]
    }
   ],
   "source": [
    "# upper() lower()\n",
    "print(\"Greek sentence all uppercase:\" + greek_string.upper())\n",
    "print(\"English sentence all lowercase:\" + english_string.lower())"
   ]
  },
  {
   "cell_type": "code",
   "execution_count": 38,
   "metadata": {},
   "outputs": [
    {
     "name": "stdout",
     "output_type": "stream",
     "text": [
      "Unstripped string:      hi \n",
      "\n",
      "\n",
      "\n",
      "Left stripped string: hi \n",
      "\n",
      "\n",
      "\n",
      "Right stripped string:      hi\n",
      "Stripped string: hi\n"
     ]
    }
   ],
   "source": [
    "# strip() lstrip() rstrip()\n",
    "english_string = \"     hi \\n\\n\\n\"\n",
    "print(\"Unstripped string: \" + english_string)\n",
    "\n",
    "print(\"Left stripped string: \" + english_string.lstrip())\n",
    "print(\"Right stripped string: \" + english_string.rstrip())\n",
    "print(\"Stripped string: \" + english_string.strip())"
   ]
  },
  {
   "cell_type": "markdown",
   "metadata": {},
   "source": [
    "Something important to note about Jupyter is that it uses whatever code you ran most recently, regardless of that code's order in the file. This is super important to remember if you're ever reassigning variables.\n",
    "\n",
    "Run the above code block (which reassignes english_string and demonstrates string strip()) then run the code block above that (which demonstrates upper() and lower()). "
   ]
  },
  {
   "cell_type": "code",
   "execution_count": 42,
   "metadata": {},
   "outputs": [
    {
     "name": "stdout",
     "output_type": "stream",
     "text": [
      "['σκηνὴ', 'πᾶς', 'ὁ', 'βίος', 'καὶ', 'παίγνιον:', 'ἢ', 'μάθε', 'παίζειν,', 'τὴν', 'σπουδὴν', 'μεταθείς,', 'ἢ', 'φέρε', 'τὰς', 'ὀδύνας.']\n",
      "['σκηνὴ πᾶς ὁ ', 'ίος καὶ παίγνιον: ἢ μάθε παίζειν, τὴν σπουδὴν μεταθείς, ἢ φέρε τὰς ὀδύνας.']\n",
      "\n",
      "Here's some\n",
      "text\n",
      "that is split into lines\n",
      "using \\n\n",
      "\n",
      "['', \"Here's some\", 'text', 'that is split into lines', 'using \\\\n']\n"
     ]
    }
   ],
   "source": [
    "# split() #splitlines()\n",
    "print(greek_string.split()) #by default, split will split on whitespace\n",
    "print(greek_string.split('β'))\n",
    "\n",
    "lines_of_text=\"\\nHere's some\\ntext\\nthat is split into lines\\nusing \\\\n\\n\"\n",
    "print(lines_of_text)\n",
    "print(lines_of_text.splitlines())"
   ]
  },
  {
   "cell_type": "markdown",
   "metadata": {},
   "source": [
    "### Note: Python strings are ***immutable***\n",
    "\n",
    "This means that they can't change after they're created. \n",
    "But you can still reassign variables in Python, which we did earlier with the variable name english_string. \n",
    "\n",
    "The reason this matters is because all Python string functions will not change the string unless you reassign that variable name. "
   ]
  },
  {
   "cell_type": "code",
   "execution_count": 43,
   "metadata": {},
   "outputs": [
    {
     "name": "stdout",
     "output_type": "stream",
     "text": [
      "hello world!\n",
      "HELLO WORLD!\n",
      "700\n",
      "This is my new and improved string\n"
     ]
    }
   ],
   "source": [
    "string_name = \"hello world!\"\n",
    "string_name.upper()\n",
    "print(string_name) \n",
    "\n",
    "#Let's try reassigning string_name to a few different things and then printing again\n",
    "string_name = string_name.upper() \n",
    "print(string_name)\n",
    "\n",
    "string_name = 700\n",
    "print(string_name)\n",
    "\n",
    "string_name = \"This is my new and improved string\"\n",
    "print(string_name)"
   ]
  },
  {
   "cell_type": "markdown",
   "metadata": {},
   "source": [
    "### Other Python data types\n",
    "\n",
    "Strings are a built-in data type for Python, which basically just means they come with the language itself. I've bolded the data types here that you're most likely to come across or want to use in corpus linguistics.\n",
    "\n",
    "| *Text Type*     | **str**                     |\n",
    "|-------------------|-----------------------------|\n",
    "| *Numeric Types* | **int**, **float**, complex          |\n",
    "| *Sequence Types*| **list**, **tuple**, **range**           |\n",
    "| *Mapping Type*  | **dict**                         |\n",
    "| *Set Types*     | **set**, frozenset               |\n",
    "| *Boolean Type*  | **bool**                         |\n",
    "| *Binary Types*  | bytes, bytearray, memoryview |\n",
    "\n",
    "Data types are ways of representing data. It's important to understand what you can and can't do with the builtin data types, so that when we're working with custom data types like Pandas DataFrames, we understand the general concept.\n"
   ]
  },
  {
   "cell_type": "code",
   "execution_count": 47,
   "metadata": {},
   "outputs": [
    {
     "name": "stdout",
     "output_type": "stream",
     "text": [
      "<class 'int'>\n",
      "<class 'float'>\n"
     ]
    }
   ],
   "source": [
    "# integers and floats\n",
    "number1 = -3\n",
    "print(type(number1))\n",
    "\n",
    "number2 = 5.5\n",
    "\n",
    "division = number1 / number2\n",
    "print(type(division))\n",
    "\n",
    "multiplication = number1 * number2\n",
    "subtraction = number2 - number1\n",
    "addition = number1 + number2 + number1 + number2"
   ]
  },
  {
   "cell_type": "markdown",
   "metadata": {},
   "source": [
    "### Collections\n",
    "\n",
    "A collection is a data type that can hold multiple items. The main builtin collection types are lists, tuples, sets, and dictionaries. We've been working with Pandas DataFrames in class; these are also collection types, they're just not built into Python, meaning you have to install Pandas to use them.\n",
    "\n",
    "From https://www.w3schools.com/python/python_lists.asp:   \n",
    "List is a collection which is ordered and changeable. Allows duplicate members.  \n",
    "Tuple is a collection which is ordered and unchangeable. Allows duplicate members.  \n",
    "Set is a collection which is unordered, unchangeable, and unindexed. No duplicate members.  \n",
    "Dictionary is a collection which is ordered and changeable. No duplicate members.  \n",
    "\n",
    "We're going to go a lot more into collections in the following weeks once we start talking about loops and list comprehensions, but here's a general overview of how they work\n"
   ]
  },
  {
   "cell_type": "code",
   "execution_count": 49,
   "metadata": {},
   "outputs": [
    {
     "name": "stdout",
     "output_type": "stream",
     "text": [
      "[1, 2, 3, 4, 5, 6, 7, 8, 9, 0]\n"
     ]
    },
    {
     "data": {
      "text/plain": [
       "45"
      ]
     },
     "execution_count": 49,
     "metadata": {},
     "output_type": "execute_result"
    }
   ],
   "source": [
    "# lists\n",
    "# note: we've already seen lists today, remember split()?\n",
    "\n",
    "my_num_list = [1,2,3,4]\n",
    "my_double_list = [2.5, 4.7, 9.999]\n",
    "my_str_list = [\"hi\", \"there\", \"everyone\"]\n",
    "my_mixed_list = [\"hi there\", 4, 5.5]\n",
    "my_list_list = [[1,2,3], [4,5,6], [7,8,9]]\n",
    "\n",
    "# unlike strings, lists are mutable, meaning you can change them\n",
    "my_num_list.append(5)\n",
    "my_num_list.extend([6,7,8])\n",
    "my_num_list.insert(8, 9) #inserts the number 9 at index 8\n",
    "my_num_list += [0]\n",
    "\n",
    "print(my_num_list)\n",
    "\n",
    "sum(my_num_list)\n"
   ]
  },
  {
   "cell_type": "code",
   "execution_count": 50,
   "metadata": {},
   "outputs": [
    {
     "ename": "TypeError",
     "evalue": "unsupported operand type(s) for +: 'int' and 'list'",
     "output_type": "error",
     "traceback": [
      "\u001b[0;31m---------------------------------------------------------------------------\u001b[0m",
      "\u001b[0;31mTypeError\u001b[0m                                 Traceback (most recent call last)",
      "Cell \u001b[0;32mIn[50], line 2\u001b[0m\n\u001b[1;32m      1\u001b[0m \u001b[38;5;66;03m# this will not work!\u001b[39;00m\n\u001b[0;32m----> 2\u001b[0m \u001b[38;5;28;43msum\u001b[39;49m\u001b[43m(\u001b[49m\u001b[43mmy_list_list\u001b[49m\u001b[43m)\u001b[49m\n",
      "\u001b[0;31mTypeError\u001b[0m: unsupported operand type(s) for +: 'int' and 'list'"
     ]
    }
   ],
   "source": [
    "# this will not work!\n",
    "sum(my_list_list)"
   ]
  },
  {
   "cell_type": "code",
   "execution_count": 51,
   "metadata": {},
   "outputs": [
    {
     "name": "stdout",
     "output_type": "stream",
     "text": [
      "45\n"
     ]
    }
   ],
   "source": [
    "# the above block won't work because sum works on a list of ints or floats, not a list of lists. \n",
    "# we'll be going over loops in the future, but let's quickly look at how you could actually do this\n",
    "\n",
    "total = 0\n",
    "\n",
    "for list in my_list_list:\n",
    "    total = total + sum(list)\n",
    "\n",
    "print(total)"
   ]
  },
  {
   "cell_type": "code",
   "execution_count": 52,
   "metadata": {},
   "outputs": [
    {
     "name": "stdout",
     "output_type": "stream",
     "text": [
      "greek\n"
     ]
    }
   ],
   "source": [
    "# tuples\n",
    "my_tuple = (\"greek\", \"latin\", \"english\", \"sanskrit\", \"latin\")\n",
    "print(my_tuple[0])\n",
    "\n",
    "# this won't work because tuples are immutable, like strings\n",
    "# my_tuple[0] = \"ancient greek\""
   ]
  },
  {
   "cell_type": "code",
   "execution_count": 53,
   "metadata": {},
   "outputs": [
    {
     "name": "stdout",
     "output_type": "stream",
     "text": [
      "2\n"
     ]
    }
   ],
   "source": [
    "# dictionaries\n",
    "corpus = \"this is this cool thing\"\n",
    "my_dictionary = {\"this\": 2, \"is\": 1, \"cool\": 1, \"thing\": 1}\n",
    "\n",
    "print(my_dictionary[\"this\"])\n",
    "\n",
    "#dictionaries don't just have to be strings and integers, they can be pretty much anything\n",
    "my_latin_disctionary = {\"bonus, -a, -um\": \"good\", \"nox, noctis, f\": \"night\"}\n",
    "my_list_disctionary = {1.1: [2,4,6], 1.2: [1,3,5]}\n"
   ]
  }
 ],
 "metadata": {
  "kernelspec": {
   "display_name": "base",
   "language": "python",
   "name": "python3"
  },
  "language_info": {
   "codemirror_mode": {
    "name": "ipython",
    "version": 3
   },
   "file_extension": ".py",
   "mimetype": "text/x-python",
   "name": "python",
   "nbconvert_exporter": "python",
   "pygments_lexer": "ipython3",
   "version": "3.12.2"
  }
 },
 "nbformat": 4,
 "nbformat_minor": 2
}
