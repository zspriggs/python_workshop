{
 "cells": [
  {
   "cell_type": "markdown",
   "metadata": {},
   "source": [
    "# Welcome to Python workshop 2!\n",
    "Today we are going to discuss conditionals and loops\n",
    "\n",
    "### Conditionals\n",
    "\"If\" statements in Python allow you to test whether not a certain condition is true\n"
   ]
  },
  {
   "cell_type": "code",
   "execution_count": null,
   "metadata": {},
   "outputs": [],
   "source": [
    "num = 5\n",
    "if num < 5:\n",
    "    print(\"Number is less than 5\")\n",
    "\n",
    "if num % 5 == 0:\n",
    "    print(\"Number is divisible by 5\")"
   ]
  },
  {
   "cell_type": "markdown",
   "metadata": {},
   "source": [
    "You can also use \"elif\" and \"else\" in your if statements. \"elif\" is for testing a different condition, if the previous condition(s) were not met. \"else\" doesn't come with a condition, instead it is used to designate code that will run if none of the above conditions were met. "
   ]
  },
  {
   "cell_type": "code",
   "execution_count": null,
   "metadata": {},
   "outputs": [],
   "source": [
    "corpus = \"Good evening everyone, I hope you're having a wonderful time in Python workshop!\"\n",
    "corpus_list = corpus.split()\n",
    "\n",
    "if \"statistics\" in corpus_list:\n",
    "    print(\"Let's get calculating!\")\n",
    "elif \"evening\" in corpus_list:\n",
    "    print(\"Hope you're not too sleepy.\")\n",
    "elif \"ancient greek\" in corpus_list:\n",
    "    print(\"I love ancient languages!\")\n",
    "else:\n",
    "    print(\"Let's get coding!\")\n"
   ]
  },
  {
   "cell_type": "markdown",
   "metadata": {},
   "source": [
    "You can add complexity to conditional statements using the Python logical operators: and, or, not  \n",
    "Keep in mind that parentheses () in Python work a lot like they do in math. You can use them in your if statements to help add clarity, and to make sure Python evaluates your logic in the right order. "
   ]
  },
  {
   "cell_type": "code",
   "execution_count": null,
   "metadata": {},
   "outputs": [],
   "source": [
    "if \"Good\" in corpus_list and \"evening\" in corpus_list or \"night\" in corpus_list:\n",
    "    print(\"Good evening to you as well!\")\n",
    "elif \"Good\" in corpus_list and (\"evening\" not in corpus_list and \"night\" not in corpus_list):\n",
    "    print(\"It is not the evening\")"
   ]
  },
  {
   "cell_type": "markdown",
   "metadata": {},
   "source": [
    "At times, it can be helpful to store your conditions in a variable. *Booleans* or Bools are another built-in data type that we did not discuss last time. Bools represent a simple True or False value. "
   ]
  },
  {
   "cell_type": "code",
   "execution_count": null,
   "metadata": {},
   "outputs": [],
   "source": [
    "#Let's pretend a \"valid\" corpus has at least 5 words in it. \n",
    "corpus1 = \"All the world’s a stage, and all the men and women merely players\"\n",
    "\n",
    "corpus1_list = corpus1.split()\n",
    "\n",
    "corpus1_isValid = len(corpus1_list) >= 5\n",
    "\n",
    "if corpus1_isValid:\n",
    "    print(\"The first corpus is a valid length\")\n",
    "elif not corpus1_isValid:\n",
    "    print(\"The first corpus is not a valid length\")\n",
    "\n",
    "# since we know that the variable corpus1_isValid will either be true or false,\n",
    "# a slightly clearer way of writing the above statement might be to use an else\n",
    "\n",
    "if corpus1_isValid:\n",
    "    print(\"The first corpus is a valid length\")\n",
    "else:\n",
    "    print(\"The first corpus is not a valid length\")"
   ]
  },
  {
   "cell_type": "markdown",
   "metadata": {},
   "source": [
    "## A note on programming\n",
    "Just like any other language (programming or otherwise) there are almost always multiple ways of expressing something. Personally, I find the second if statement above to be more easy to understand, but you might disagree. In general, it is best practice to write code that is easy to understand by choosing clear/descriptive variable names and trying to make your code straightforward. "
   ]
  },
  {
   "cell_type": "markdown",
   "metadata": {},
   "source": [
    "### Loops\n"
   ]
  },
  {
   "cell_type": "markdown",
   "metadata": {},
   "source": [
    "There are two main types of loops in Python: while loops and for loops. While loops will repeat until the given condition is not satisfied. For loops are generally used to traverse over iterable objects like lists."
   ]
  },
  {
   "cell_type": "code",
   "execution_count": null,
   "metadata": {},
   "outputs": [],
   "source": [
    "condition = True\n",
    "\n",
    "#you could also say while condition is True: or while condition == True:\n",
    "while condition:\n",
    "    print(\"Condition is true\")\n",
    "    condition = False\n",
    "\n",
    "count = 5\n",
    "while count < 10:\n",
    "    print(count)\n",
    "    count = count + 1"
   ]
  },
  {
   "cell_type": "code",
   "execution_count": null,
   "metadata": {},
   "outputs": [],
   "source": [
    "for num in range(0, 5):\n",
    "    print(num)"
   ]
  },
  {
   "cell_type": "code",
   "execution_count": null,
   "metadata": {},
   "outputs": [],
   "source": [
    "corpus = \"here is a string of words\"\n",
    "corpus_list = corpus.split()\n",
    "count = 0\n",
    "\n",
    "for word in corpus_list:\n",
    "    print(f\"{count}: {word}\")\n",
    "    count = count + 1"
   ]
  },
  {
   "cell_type": "markdown",
   "metadata": {},
   "source": [
    "#### Nested Statments\n",
    "You can nest statements in Python, which just means you can put them inside each other. Keep in mind that Python uses indentation to understand what statements belong where, so be careful to properly indent. "
   ]
  },
  {
   "cell_type": "code",
   "execution_count": null,
   "metadata": {},
   "outputs": [],
   "source": [
    "long_words = 0\n",
    "short_words = 0\n",
    "\n",
    "for word in corpus_list:\n",
    "    if len(word) < 5:\n",
    "        short_words = short_words + 1\n",
    "    else:\n",
    "        long_words = long_words + 1\n",
    "\n",
    "print(f\"there are {short_words} short words and {long_words} long words\")"
   ]
  },
  {
   "cell_type": "code",
   "execution_count": null,
   "metadata": {},
   "outputs": [],
   "source": [
    "# be careful of the exact manner in which you declare variables\n",
    "# the following line fixes this code by declaring the variable outside the scope of the for loop\n",
    "#is_pausanias_here = False\n",
    "\n",
    "if len(corpus_list) > 0:\n",
    "    for word in corpus_list:\n",
    "        if word == \"Pausanias\":\n",
    "            is_pausanias_here = True\n",
    "\n",
    "print(f\"Does the word \\\"here\\\" occur in the corpus? {is_pausanias_here}\")"
   ]
  },
  {
   "cell_type": "code",
   "execution_count": null,
   "metadata": {},
   "outputs": [],
   "source": [
    "e_count = 0\n",
    "\n",
    "for word in corpus_list:\n",
    "    for letter in word: \n",
    "        if letter == \"e\":\n",
    "            e_count += 1 # this line is the same as e_count = e_count + 1\n",
    "\n",
    "print(f\"there are {e_count} instances of the letter e in the corpus\")"
   ]
  }
 ],
 "metadata": {
  "kernelspec": {
   "display_name": "base",
   "language": "python",
   "name": "python3"
  },
  "language_info": {
   "codemirror_mode": {
    "name": "ipython",
    "version": 3
   },
   "file_extension": ".py",
   "mimetype": "text/x-python",
   "name": "python",
   "nbconvert_exporter": "python",
   "pygments_lexer": "ipython3",
   "version": "3.12.2"
  }
 },
 "nbformat": 4,
 "nbformat_minor": 2
}
