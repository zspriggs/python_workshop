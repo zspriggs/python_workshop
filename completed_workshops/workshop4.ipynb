{
 "cells": [
  {
   "cell_type": "markdown",
   "metadata": {},
   "source": [
    "### Workshop Week 4\n",
    "Functions/methods, classes, and libraries - what are they and how are they useful?\n",
    "\n",
    "##### Functions\n",
    "Let's start with the smallest unit, functions. Functions are reusable blocks of code that operate on data in some way, called by name within a line of code. Methods are similar, although they technically are associated with an object (though you might find people using these terms relatively interchangably).\n",
    "You've likely seen these in class before, and have certainly used them. Python uses the def keyword to start a function."
   ]
  },
  {
   "cell_type": "code",
   "execution_count": 21,
   "metadata": {},
   "outputs": [],
   "source": [
    "def my_function(x, y):\n",
    "    x = x + 5\n",
    "    return (x+ y)"
   ]
  },
  {
   "cell_type": "markdown",
   "metadata": {},
   "source": [
    "Note that the above block of code isn't doing anything: that's because we just declared the function and didn't call it. Let's call it real quick:"
   ]
  },
  {
   "cell_type": "code",
   "execution_count": 22,
   "metadata": {},
   "outputs": [
    {
     "name": "stdout",
     "output_type": "stream",
     "text": [
      "x: 2, y: 3, result of my_func: 10\n"
     ]
    }
   ],
   "source": [
    "x = 2\n",
    "y = 3\n",
    "\n",
    "result = my_function(2,3)\n",
    "\n",
    "print(f\"x: {x}, y: {y}, result of my_func: {result}\")"
   ]
  },
  {
   "cell_type": "markdown",
   "metadata": {},
   "source": [
    "You might be surprised by the results of the above code. my_func included the line x = x + 5, and indeed my_func gets the result of x + 5 + y properly, but x is still only 2 when we print its value.  \n",
    "\n",
    "Immutable objects in Python (like strings or integers) are (basically) passed **by value**  \n",
    "Mutable objects (like lists or dictionaries) are (basically) passed **by reference**\n",
    "\n",
    "In practice means that the immutable integers we're passing to my_func **will not be changed** by what you're doing in your function. "
   ]
  },
  {
   "cell_type": "code",
   "execution_count": 23,
   "metadata": {},
   "outputs": [
    {
     "name": "stdout",
     "output_type": "stream",
     "text": [
      "['hello', 'world', '!']\n"
     ]
    }
   ],
   "source": [
    "def my_function2(x, y):\n",
    "    x.append(y)\n",
    "\n",
    "x = [\"hello\", \"world\"]\n",
    "y = \"!\"\n",
    "\n",
    "my_function2(x, y)\n",
    "\n",
    "print(x)"
   ]
  },
  {
   "cell_type": "markdown",
   "metadata": {},
   "source": [
    "Functions are sort of the building blocks of classes. Classes generally combine functions and/or data attributes, and can (sometimes) be instantiated to create an Object. Since we aren't likely going to be creating classes or custom objects in this class, I'm not going to go super in-depth into that for this workshop. We will take a quick look at EnglishTextAnalyzer.py to see a small example of what a class could look like."
   ]
  },
  {
   "cell_type": "code",
   "execution_count": 26,
   "metadata": {},
   "outputs": [
    {
     "data": {
      "text/plain": [
       "('of', 2)"
      ]
     },
     "execution_count": 26,
     "metadata": {},
     "output_type": "execute_result"
    }
   ],
   "source": [
    "from EnglishTextAnalyzer import EnglishTextAnalyzer\n",
    "\n",
    "#creates an EnglishTextAnalyzer object called \"text_analyzer\"\n",
    "text_analyzer = EnglishTextAnalyzer(\"For never was a story of more woe\\nThan this of Juliet and her Romeo\")\n",
    "\n",
    "#uses the get_top_word() method that's built into the EnglishTextAnalyzer class\n",
    "text_analyzer.get_top_word()"
   ]
  },
  {
   "cell_type": "markdown",
   "metadata": {},
   "source": [
    "Libraries are collections of classes, functions, etc that provide reusable tools for doing certain tasks within your program. In Python, there are built in libraries (like math) as well as external libraries that you have to install using pip (like Spacy and Pandas)."
   ]
  },
  {
   "cell_type": "code",
   "execution_count": 27,
   "metadata": {},
   "outputs": [],
   "source": [
    "#there are multiple ways to import a library\n",
    "import pandas\n",
    "import pandas as pd\n",
    "from pandas import DataFrame"
   ]
  },
  {
   "cell_type": "markdown",
   "metadata": {},
   "source": [
    "### What is Pandas?\n",
    "\n",
    "We've done a lot of work with Pandas and Spacy already, but for the next workshop we are going to go over what you can do with Pandas and Spacy, and a general overview of the data types involved so that we can know exactly it *is* that we're working with. \n",
    "\n",
    "Pandas is a library that helps you analyze and manipulate data. \n",
    "A **Pandas DataFrame** is a two-dimensional data structure. Two dimensional means that is has rows and columns, like a spreadsheet or a table. Each row and column can hold different data and be labeled for easier access. "
   ]
  },
  {
   "cell_type": "code",
   "execution_count": 29,
   "metadata": {},
   "outputs": [
    {
     "data": {
      "text/html": [
       "<div>\n",
       "<style scoped>\n",
       "    .dataframe tbody tr th:only-of-type {\n",
       "        vertical-align: middle;\n",
       "    }\n",
       "\n",
       "    .dataframe tbody tr th {\n",
       "        vertical-align: top;\n",
       "    }\n",
       "\n",
       "    .dataframe thead th {\n",
       "        text-align: right;\n",
       "    }\n",
       "</style>\n",
       "<table border=\"1\" class=\"dataframe\">\n",
       "  <thead>\n",
       "    <tr style=\"text-align: right;\">\n",
       "      <th></th>\n",
       "      <th>id</th>\n",
       "      <th>text</th>\n",
       "    </tr>\n",
       "  </thead>\n",
       "  <tbody>\n",
       "    <tr>\n",
       "      <th>0</th>\n",
       "      <td>1</td>\n",
       "      <td>Arma virumque canō, Trōiae quī prīmus ab ōrīs</td>\n",
       "    </tr>\n",
       "    <tr>\n",
       "      <th>1</th>\n",
       "      <td>2</td>\n",
       "      <td>Ītaliam, fātō profugus, Lāvīniaque vēnit</td>\n",
       "    </tr>\n",
       "    <tr>\n",
       "      <th>2</th>\n",
       "      <td>3</td>\n",
       "      <td>lītora, multum ille et terrīs iactātus et altō.</td>\n",
       "    </tr>\n",
       "    <tr>\n",
       "      <th>3</th>\n",
       "      <td>4</td>\n",
       "      <td>vī superum saevae memorem Iūnōnis ob īram;</td>\n",
       "    </tr>\n",
       "    <tr>\n",
       "      <th>4</th>\n",
       "      <td>5</td>\n",
       "      <td>multa quoque et bellō passus, dum conderet urbem,</td>\n",
       "    </tr>\n",
       "  </tbody>\n",
       "</table>\n",
       "</div>"
      ],
      "text/plain": [
       "   id                                               text\n",
       "0   1      Arma virumque canō, Trōiae quī prīmus ab ōrīs\n",
       "1   2           Ītaliam, fātō profugus, Lāvīniaque vēnit\n",
       "2   3    lītora, multum ille et terrīs iactātus et altō.\n",
       "3   4         vī superum saevae memorem Iūnōnis ob īram;\n",
       "4   5  multa quoque et bellō passus, dum conderet urbem,"
      ]
     },
     "execution_count": 29,
     "metadata": {},
     "output_type": "execute_result"
    }
   ],
   "source": [
    "import pandas as pd\n",
    "\n",
    "# Let's start by creating a simple DataFrame with some sample text data.\n",
    "data = {\n",
    "    'id': [1, 2, 3, 4, 5, 6, 7],\n",
    "    'text': [\n",
    "        \"Arma virumque canō, Trōiae quī prīmus ab ōrīs\",\n",
    "        \"Ītaliam, fātō profugus, Lāvīniaque vēnit\",\n",
    "        \"lītora, multum ille et terrīs iactātus et altō.\",\n",
    "        \"vī superum saevae memorem Iūnōnis ob īram;\",\n",
    "        \"multa quoque et bellō passus, dum conderet urbem,\",\n",
    "        \"inferretque deōs Latiō, genus unde Latīnum,\",\n",
    "        \"Albānīque patrēs, atque altae moenia Rōmae.\"\n",
    "    ]\n",
    "}\n",
    "\n",
    "df = pd.DataFrame(data)\n",
    "\n",
    "#head displays the first few rows of your dataframe\n",
    "df.head()\n"
   ]
  },
  {
   "cell_type": "code",
   "execution_count": 30,
   "metadata": {},
   "outputs": [
    {
     "data": {
      "text/plain": [
       "(7, 2)"
      ]
     },
     "execution_count": 30,
     "metadata": {},
     "output_type": "execute_result"
    }
   ],
   "source": [
    "df.shape"
   ]
  },
  {
   "cell_type": "code",
   "execution_count": 31,
   "metadata": {},
   "outputs": [
    {
     "data": {
      "text/html": [
       "<div>\n",
       "<style scoped>\n",
       "    .dataframe tbody tr th:only-of-type {\n",
       "        vertical-align: middle;\n",
       "    }\n",
       "\n",
       "    .dataframe tbody tr th {\n",
       "        vertical-align: top;\n",
       "    }\n",
       "\n",
       "    .dataframe thead th {\n",
       "        text-align: right;\n",
       "    }\n",
       "</style>\n",
       "<table border=\"1\" class=\"dataframe\">\n",
       "  <thead>\n",
       "    <tr style=\"text-align: right;\">\n",
       "      <th></th>\n",
       "      <th>id</th>\n",
       "      <th>text</th>\n",
       "      <th>new_column</th>\n",
       "    </tr>\n",
       "  </thead>\n",
       "  <tbody>\n",
       "    <tr>\n",
       "      <th>0</th>\n",
       "      <td>1</td>\n",
       "      <td>Arma virumque canō, Trōiae quī prīmus ab ōrīs</td>\n",
       "      <td>1</td>\n",
       "    </tr>\n",
       "    <tr>\n",
       "      <th>1</th>\n",
       "      <td>2</td>\n",
       "      <td>Ītaliam, fātō profugus, Lāvīniaque vēnit</td>\n",
       "      <td>2</td>\n",
       "    </tr>\n",
       "    <tr>\n",
       "      <th>2</th>\n",
       "      <td>3</td>\n",
       "      <td>lītora, multum ille et terrīs iactātus et altō.</td>\n",
       "      <td>3</td>\n",
       "    </tr>\n",
       "    <tr>\n",
       "      <th>3</th>\n",
       "      <td>4</td>\n",
       "      <td>vī superum saevae memorem Iūnōnis ob īram;</td>\n",
       "      <td>4</td>\n",
       "    </tr>\n",
       "    <tr>\n",
       "      <th>4</th>\n",
       "      <td>5</td>\n",
       "      <td>multa quoque et bellō passus, dum conderet urbem,</td>\n",
       "      <td>5</td>\n",
       "    </tr>\n",
       "    <tr>\n",
       "      <th>5</th>\n",
       "      <td>6</td>\n",
       "      <td>inferretque deōs Latiō, genus unde Latīnum,</td>\n",
       "      <td>6</td>\n",
       "    </tr>\n",
       "    <tr>\n",
       "      <th>6</th>\n",
       "      <td>7</td>\n",
       "      <td>Albānīque patrēs, atque altae moenia Rōmae.</td>\n",
       "      <td>7</td>\n",
       "    </tr>\n",
       "  </tbody>\n",
       "</table>\n",
       "</div>"
      ],
      "text/plain": [
       "   id                                               text  new_column\n",
       "0   1      Arma virumque canō, Trōiae quī prīmus ab ōrīs           1\n",
       "1   2           Ītaliam, fātō profugus, Lāvīniaque vēnit           2\n",
       "2   3    lītora, multum ille et terrīs iactātus et altō.           3\n",
       "3   4         vī superum saevae memorem Iūnōnis ob īram;           4\n",
       "4   5  multa quoque et bellō passus, dum conderet urbem,           5\n",
       "5   6        inferretque deōs Latiō, genus unde Latīnum,           6\n",
       "6   7        Albānīque patrēs, atque altae moenia Rōmae.           7"
      ]
     },
     "execution_count": 31,
     "metadata": {},
     "output_type": "execute_result"
    }
   ],
   "source": [
    "df[\"new_column\"] = df['id'].apply(abs)\n",
    "df"
   ]
  },
  {
   "cell_type": "code",
   "execution_count": 32,
   "metadata": {},
   "outputs": [
    {
     "data": {
      "text/html": [
       "<div>\n",
       "<style scoped>\n",
       "    .dataframe tbody tr th:only-of-type {\n",
       "        vertical-align: middle;\n",
       "    }\n",
       "\n",
       "    .dataframe tbody tr th {\n",
       "        vertical-align: top;\n",
       "    }\n",
       "\n",
       "    .dataframe thead th {\n",
       "        text-align: right;\n",
       "    }\n",
       "</style>\n",
       "<table border=\"1\" class=\"dataframe\">\n",
       "  <thead>\n",
       "    <tr style=\"text-align: right;\">\n",
       "      <th></th>\n",
       "      <th>id</th>\n",
       "      <th>text</th>\n",
       "      <th>new_column</th>\n",
       "    </tr>\n",
       "  </thead>\n",
       "  <tbody>\n",
       "    <tr>\n",
       "      <th>0</th>\n",
       "      <td>1</td>\n",
       "      <td>Arma virumque canō, Trōiae quī prīmus ab ōrīs</td>\n",
       "      <td>45</td>\n",
       "    </tr>\n",
       "    <tr>\n",
       "      <th>1</th>\n",
       "      <td>2</td>\n",
       "      <td>Ītaliam, fātō profugus, Lāvīniaque vēnit</td>\n",
       "      <td>40</td>\n",
       "    </tr>\n",
       "    <tr>\n",
       "      <th>2</th>\n",
       "      <td>3</td>\n",
       "      <td>lītora, multum ille et terrīs iactātus et altō.</td>\n",
       "      <td>47</td>\n",
       "    </tr>\n",
       "    <tr>\n",
       "      <th>3</th>\n",
       "      <td>4</td>\n",
       "      <td>vī superum saevae memorem Iūnōnis ob īram;</td>\n",
       "      <td>42</td>\n",
       "    </tr>\n",
       "    <tr>\n",
       "      <th>4</th>\n",
       "      <td>5</td>\n",
       "      <td>multa quoque et bellō passus, dum conderet urbem,</td>\n",
       "      <td>49</td>\n",
       "    </tr>\n",
       "    <tr>\n",
       "      <th>5</th>\n",
       "      <td>6</td>\n",
       "      <td>inferretque deōs Latiō, genus unde Latīnum,</td>\n",
       "      <td>43</td>\n",
       "    </tr>\n",
       "    <tr>\n",
       "      <th>6</th>\n",
       "      <td>7</td>\n",
       "      <td>Albānīque patrēs, atque altae moenia Rōmae.</td>\n",
       "      <td>43</td>\n",
       "    </tr>\n",
       "  </tbody>\n",
       "</table>\n",
       "</div>"
      ],
      "text/plain": [
       "   id                                               text  new_column\n",
       "0   1      Arma virumque canō, Trōiae quī prīmus ab ōrīs          45\n",
       "1   2           Ītaliam, fātō profugus, Lāvīniaque vēnit          40\n",
       "2   3    lītora, multum ille et terrīs iactātus et altō.          47\n",
       "3   4         vī superum saevae memorem Iūnōnis ob īram;          42\n",
       "4   5  multa quoque et bellō passus, dum conderet urbem,          49\n",
       "5   6        inferretque deōs Latiō, genus unde Latīnum,          43\n",
       "6   7        Albānīque patrēs, atque altae moenia Rōmae.          43"
      ]
     },
     "execution_count": 32,
     "metadata": {},
     "output_type": "execute_result"
    }
   ],
   "source": [
    "df[\"new_column\"] = df['text'].apply(len)\n",
    "df"
   ]
  },
  {
   "cell_type": "code",
   "execution_count": 33,
   "metadata": {},
   "outputs": [
    {
     "name": "stdout",
     "output_type": "stream",
     "text": [
      "<class 'pandas.core.series.Series'>\n"
     ]
    },
    {
     "data": {
      "text/plain": [
       "3           vī superum saevae memorem Iūnōnis ob īram;\n",
       "4    multa quoque et bellō passus, dum conderet urbem,\n",
       "5          inferretque deōs Latiō, genus unde Latīnum,\n",
       "Name: text, dtype: object"
      ]
     },
     "execution_count": 33,
     "metadata": {},
     "output_type": "execute_result"
    }
   ],
   "source": [
    "#if a column of your dataframe is a list (or, since Pandas converts it, a Pandas Series), \n",
    "#you can access elements like how you'd access list elements\n",
    "\n",
    "print(type(df[\"text\"]))\n",
    "df[\"text\"][3:6]\n"
   ]
  }
 ],
 "metadata": {
  "kernelspec": {
   "display_name": "Python 3",
   "language": "python",
   "name": "python3"
  },
  "language_info": {
   "codemirror_mode": {
    "name": "ipython",
    "version": 3
   },
   "file_extension": ".py",
   "mimetype": "text/x-python",
   "name": "python",
   "nbconvert_exporter": "python",
   "pygments_lexer": "ipython3",
   "version": "3.10.7"
  }
 },
 "nbformat": 4,
 "nbformat_minor": 2
}
